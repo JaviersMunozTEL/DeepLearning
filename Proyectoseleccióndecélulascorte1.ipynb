{
  "cells": [
    {
      "cell_type": "markdown",
      "metadata": {
        "id": "e3nLeuGsPdJO"
      },
      "source": [
        "# **COMPUTER VISION**\n",
        "\n",
        "**UNIVERSIDAD MILITAR NUEVA GRANADA**\n",
        "\n",
        "**COMPUTER VISION - PERCEPTRON MULTICAPA**\n",
        "\n",
        "Ingeniería en Telecomunicaciones\n",
        "\n",
        "Edwin Pineda - - Javier Muñoz"
      ]
    },
    {
      "cell_type": "code",
      "source": [
        "!pip install medmnist\n",
        "!pip install optuna   #Herramienta para seleccionar hiperparametros"
      ],
      "metadata": {
        "colab": {
          "base_uri": "https://localhost:8080/"
        },
        "id": "PZ0yGt7F3g1O",
        "outputId": "05d7b54f-0e92-404b-a749-f7c8c25d3c31"
      },
      "execution_count": 1,
      "outputs": [
        {
          "output_type": "stream",
          "name": "stdout",
          "text": [
            "Requirement already satisfied: medmnist in /usr/local/lib/python3.12/dist-packages (3.0.2)\n",
            "Requirement already satisfied: numpy in /usr/local/lib/python3.12/dist-packages (from medmnist) (2.0.2)\n",
            "Requirement already satisfied: pandas in /usr/local/lib/python3.12/dist-packages (from medmnist) (2.2.2)\n",
            "Requirement already satisfied: scikit-learn in /usr/local/lib/python3.12/dist-packages (from medmnist) (1.6.1)\n",
            "Requirement already satisfied: scikit-image in /usr/local/lib/python3.12/dist-packages (from medmnist) (0.25.2)\n",
            "Requirement already satisfied: tqdm in /usr/local/lib/python3.12/dist-packages (from medmnist) (4.67.1)\n",
            "Requirement already satisfied: Pillow in /usr/local/lib/python3.12/dist-packages (from medmnist) (11.3.0)\n",
            "Requirement already satisfied: fire in /usr/local/lib/python3.12/dist-packages (from medmnist) (0.7.1)\n",
            "Requirement already satisfied: torch in /usr/local/lib/python3.12/dist-packages (from medmnist) (2.8.0+cu126)\n",
            "Requirement already satisfied: torchvision in /usr/local/lib/python3.12/dist-packages (from medmnist) (0.23.0+cu126)\n",
            "Requirement already satisfied: termcolor in /usr/local/lib/python3.12/dist-packages (from fire->medmnist) (3.1.0)\n",
            "Requirement already satisfied: python-dateutil>=2.8.2 in /usr/local/lib/python3.12/dist-packages (from pandas->medmnist) (2.9.0.post0)\n",
            "Requirement already satisfied: pytz>=2020.1 in /usr/local/lib/python3.12/dist-packages (from pandas->medmnist) (2025.2)\n",
            "Requirement already satisfied: tzdata>=2022.7 in /usr/local/lib/python3.12/dist-packages (from pandas->medmnist) (2025.2)\n",
            "Requirement already satisfied: scipy>=1.11.4 in /usr/local/lib/python3.12/dist-packages (from scikit-image->medmnist) (1.16.1)\n",
            "Requirement already satisfied: networkx>=3.0 in /usr/local/lib/python3.12/dist-packages (from scikit-image->medmnist) (3.5)\n",
            "Requirement already satisfied: imageio!=2.35.0,>=2.33 in /usr/local/lib/python3.12/dist-packages (from scikit-image->medmnist) (2.37.0)\n",
            "Requirement already satisfied: tifffile>=2022.8.12 in /usr/local/lib/python3.12/dist-packages (from scikit-image->medmnist) (2025.6.11)\n",
            "Requirement already satisfied: packaging>=21 in /usr/local/lib/python3.12/dist-packages (from scikit-image->medmnist) (25.0)\n",
            "Requirement already satisfied: lazy-loader>=0.4 in /usr/local/lib/python3.12/dist-packages (from scikit-image->medmnist) (0.4)\n",
            "Requirement already satisfied: joblib>=1.2.0 in /usr/local/lib/python3.12/dist-packages (from scikit-learn->medmnist) (1.5.1)\n",
            "Requirement already satisfied: threadpoolctl>=3.1.0 in /usr/local/lib/python3.12/dist-packages (from scikit-learn->medmnist) (3.6.0)\n",
            "Requirement already satisfied: filelock in /usr/local/lib/python3.12/dist-packages (from torch->medmnist) (3.19.1)\n",
            "Requirement already satisfied: typing-extensions>=4.10.0 in /usr/local/lib/python3.12/dist-packages (from torch->medmnist) (4.14.1)\n",
            "Requirement already satisfied: setuptools in /usr/local/lib/python3.12/dist-packages (from torch->medmnist) (75.2.0)\n",
            "Requirement already satisfied: sympy>=1.13.3 in /usr/local/lib/python3.12/dist-packages (from torch->medmnist) (1.13.3)\n",
            "Requirement already satisfied: jinja2 in /usr/local/lib/python3.12/dist-packages (from torch->medmnist) (3.1.6)\n",
            "Requirement already satisfied: fsspec in /usr/local/lib/python3.12/dist-packages (from torch->medmnist) (2025.3.0)\n",
            "Requirement already satisfied: nvidia-cuda-nvrtc-cu12==12.6.77 in /usr/local/lib/python3.12/dist-packages (from torch->medmnist) (12.6.77)\n",
            "Requirement already satisfied: nvidia-cuda-runtime-cu12==12.6.77 in /usr/local/lib/python3.12/dist-packages (from torch->medmnist) (12.6.77)\n",
            "Requirement already satisfied: nvidia-cuda-cupti-cu12==12.6.80 in /usr/local/lib/python3.12/dist-packages (from torch->medmnist) (12.6.80)\n",
            "Requirement already satisfied: nvidia-cudnn-cu12==9.10.2.21 in /usr/local/lib/python3.12/dist-packages (from torch->medmnist) (9.10.2.21)\n",
            "Requirement already satisfied: nvidia-cublas-cu12==12.6.4.1 in /usr/local/lib/python3.12/dist-packages (from torch->medmnist) (12.6.4.1)\n",
            "Requirement already satisfied: nvidia-cufft-cu12==11.3.0.4 in /usr/local/lib/python3.12/dist-packages (from torch->medmnist) (11.3.0.4)\n",
            "Requirement already satisfied: nvidia-curand-cu12==10.3.7.77 in /usr/local/lib/python3.12/dist-packages (from torch->medmnist) (10.3.7.77)\n",
            "Requirement already satisfied: nvidia-cusolver-cu12==11.7.1.2 in /usr/local/lib/python3.12/dist-packages (from torch->medmnist) (11.7.1.2)\n",
            "Requirement already satisfied: nvidia-cusparse-cu12==12.5.4.2 in /usr/local/lib/python3.12/dist-packages (from torch->medmnist) (12.5.4.2)\n",
            "Requirement already satisfied: nvidia-cusparselt-cu12==0.7.1 in /usr/local/lib/python3.12/dist-packages (from torch->medmnist) (0.7.1)\n",
            "Requirement already satisfied: nvidia-nccl-cu12==2.27.3 in /usr/local/lib/python3.12/dist-packages (from torch->medmnist) (2.27.3)\n",
            "Requirement already satisfied: nvidia-nvtx-cu12==12.6.77 in /usr/local/lib/python3.12/dist-packages (from torch->medmnist) (12.6.77)\n",
            "Requirement already satisfied: nvidia-nvjitlink-cu12==12.6.85 in /usr/local/lib/python3.12/dist-packages (from torch->medmnist) (12.6.85)\n",
            "Requirement already satisfied: nvidia-cufile-cu12==1.11.1.6 in /usr/local/lib/python3.12/dist-packages (from torch->medmnist) (1.11.1.6)\n",
            "Requirement already satisfied: triton==3.4.0 in /usr/local/lib/python3.12/dist-packages (from torch->medmnist) (3.4.0)\n",
            "Requirement already satisfied: six>=1.5 in /usr/local/lib/python3.12/dist-packages (from python-dateutil>=2.8.2->pandas->medmnist) (1.17.0)\n",
            "Requirement already satisfied: mpmath<1.4,>=1.1.0 in /usr/local/lib/python3.12/dist-packages (from sympy>=1.13.3->torch->medmnist) (1.3.0)\n",
            "Requirement already satisfied: MarkupSafe>=2.0 in /usr/local/lib/python3.12/dist-packages (from jinja2->torch->medmnist) (3.0.2)\n"
          ]
        }
      ]
    },
    {
      "cell_type": "code",
      "execution_count": 2,
      "metadata": {
        "id": "-ypNZHrQRAGv"
      },
      "outputs": [],
      "source": [
        "# Carga de librerías\n",
        "import numpy as np, tensorflow as tf, matplotlib.pyplot as plt\n",
        "\n",
        "# Carga de módulos\n",
        "from medmnist import BloodMNIST\n",
        "import random\n",
        "import matplotlib.pyplot as plt\n",
        "import keras\n",
        "import pandas as pd\n",
        "from tensorflow.keras.models import Sequential\n",
        "from tensorflow.keras.layers import Flatten, Dense, Dropout\n",
        "from tensorflow.keras.utils import to_categorical\n",
        "import optuna\n",
        "import tensorflow as tf\n",
        "from tensorflow.keras.optimizers import Adam"
      ]
    },
    {
      "cell_type": "markdown",
      "metadata": {
        "id": "FcyxE9WTRQX3"
      },
      "source": [
        "# Dataset\n",
        "\n",
        "MNIST dataset\n",
        "\n",
        "[https://medmnist.com/](https://medmnist.com/)Dataset BloodMNIST\n"
      ]
    },
    {
      "cell_type": "code",
      "execution_count": 3,
      "metadata": {
        "id": "Zlm2GEyt6Cih",
        "colab": {
          "base_uri": "https://localhost:8080/"
        },
        "outputId": "3db78daf-9225-4e37-cfdc-c7262a0c06a0"
      },
      "outputs": [
        {
          "output_type": "stream",
          "name": "stdout",
          "text": [
            "Shape of x_train: (11959, 28, 28, 3)\n",
            "Shape of y_train: (11959, 1)\n",
            "Shape of x_test: (3421, 28, 28, 3)\n",
            "Shape of y_test: (3421, 1)\n",
            "Shape of x_validation: (1712, 28, 28, 3)\n",
            "Shape of y_validation: (1712, 1)\n"
          ]
        }
      ],
      "source": [
        "# Carga del dataset BloodMNIST\n",
        "train_dataset = BloodMNIST(split=\"train\", download=True, size=28)\n",
        "test_dataset = BloodMNIST(split=\"test\", download=True, size=28)\n",
        "validation_dataset=BloodMNIST(split=\"val\", download=True, size=28)\n",
        "\n",
        "x_train, y_train = train_dataset.imgs, train_dataset.labels\n",
        "x_test, y_test = test_dataset.imgs, test_dataset.labels\n",
        "x_validation, y_validation = validation_dataset.imgs, validation_dataset.labels\n",
        "\n",
        "print(\"Shape of x_train:\", x_train.shape)\n",
        "print(\"Shape of y_train:\", y_train.shape)\n",
        "print(\"Shape of x_test:\", x_test.shape)\n",
        "print(\"Shape of y_test:\", y_test.shape)\n",
        "print (\"Shape of x_validation:\", x_validation.shape)\n",
        "print(\"Shape of y_validation:\", y_validation.shape)"
      ]
    },
    {
      "cell_type": "markdown",
      "metadata": {
        "id": "GG0fy7IE92Cb"
      },
      "source": [
        "Reshape a un tesor de 4 dimensiones: batch size, width, height, color channels (método reshape sobre datos (X) de entrenamiento)"
      ]
    },
    {
      "cell_type": "code",
      "execution_count": 4,
      "metadata": {
        "id": "Ce8sGZZH96eJ",
        "colab": {
          "base_uri": "https://localhost:8080/"
        },
        "outputId": "298ad9fd-d573-4958-b891-2cc10d5691d4"
      },
      "outputs": [
        {
          "output_type": "stream",
          "name": "stdout",
          "text": [
            "Shape of x_train after reshaping: (11959, 28, 28, 3)\n",
            "Shape of x_test after reshaping: (3421, 28, 28, 3)\n"
          ]
        }
      ],
      "source": [
        "x_train = x_train.reshape(x_train.shape[0], 28, 28, 3)\n",
        "x_test = x_test.reshape(x_test.shape[0], 28, 28, 3)\n",
        "print(f\"Shape of x_train after reshaping: {x_train.shape}\")\n",
        "print(f\"Shape of x_test after reshaping: {x_test.shape}\")"
      ]
    },
    {
      "cell_type": "markdown",
      "metadata": {
        "id": "S9Eghysn9-ey"
      },
      "source": [
        "Normalizar Datos de entrada: uint8 (0-255)"
      ]
    },
    {
      "cell_type": "code",
      "execution_count": 5,
      "metadata": {
        "id": "UbUd4lSU9_V5"
      },
      "outputs": [],
      "source": [
        "x_train = x_train.astype('float32') / 255.0\n",
        "x_test = x_test.astype('float32') / 255.0"
      ]
    },
    {
      "cell_type": "markdown",
      "metadata": {
        "id": "SUbPp4N9-HiE"
      },
      "source": [
        "Convertir etiquetas a one-hot-encoding (categóricas)"
      ]
    },
    {
      "cell_type": "code",
      "execution_count": 6,
      "metadata": {
        "id": "P3_Whq1R-Iss"
      },
      "outputs": [],
      "source": [
        "y_train = to_categorical(y_train)\n",
        "y_test = to_categorical(y_test)"
      ]
    },
    {
      "cell_type": "markdown",
      "source": [
        "Uso de la herramienta para la selección de hiperparámetros"
      ],
      "metadata": {
        "id": "8PydXQefoXQY"
      }
    },
    {
      "cell_type": "code",
      "source": [
        "#Datos de entrenamiento\n",
        "x_train_Mod = x_train[1:11959,:,:,:]\n",
        "y_train_Mod = y_train[1:11959,:]\n",
        "\n",
        "def objective(trial):\n",
        "    model = Sequential()\n",
        "    model.add(Flatten(input_shape=(28, 28, 3)))\n",
        "\n",
        "    # Primera capa\n",
        "    units_1 = trial.suggest_int('units_1', 128, 1024, step=8)\n",
        "    act_1 = trial.suggest_categorical('act_1', ['relu', 'tanh', 'sigmoid', 'selu'])\n",
        "    model.add(Dense(units_1, activation=act_1))\n",
        "\n",
        "    # Segunda capa\n",
        "    units_2 = trial.suggest_int('units_2', 64, 1024, step=8)\n",
        "    act_2 = trial.suggest_categorical('act_2', ['relu', 'sigmoid', 'tanh'])\n",
        "    model.add(Dense(units_2, activation=act_2))\n",
        "\n",
        "    # Capa de salida\n",
        "    model.add(Dense(8, activation='softmax'))\n",
        "\n",
        "    # Optimizer\n",
        "    lr = trial.suggest_float('lr', 1e-5, 1e-2, log=True)\n",
        "    optimizer = Adam(learning_rate=lr)\n",
        "\n",
        "    # Batch size\n",
        "    batch_size = trial.suggest_categorical('batch_size', [16, 32, 64, 128])\n",
        "\n",
        "    model.compile(optimizer=optimizer,\n",
        "                  loss='categorical_crossentropy',\n",
        "                  metrics=['categorical_accuracy'])\n",
        "\n",
        "    # Entrenamiento silencioso\n",
        "    history = model.fit(x_train_Mod, y_train_Mod,\n",
        "                        validation_split=0.2,\n",
        "                        epochs=10,\n",
        "                        batch_size=batch_size,\n",
        "                        verbose=0)\n",
        "\n",
        "    val_acc = max(history.history['val_categorical_accuracy'])\n",
        "    return val_acc\n",
        "\n",
        "#Crear y ejecutar estudio\n",
        "study = optuna.create_study(direction='maximize')\n",
        "study.optimize(objective, n_trials=20)\n",
        "\n",
        "#Mostrar mejores parámetros\n",
        "print(\"🔍 Mejores hiperparámetros encontrados:\")\n",
        "print(study.best_params)"
      ],
      "metadata": {
        "colab": {
          "base_uri": "https://localhost:8080/"
        },
        "id": "21QFkgqpgsoG",
        "outputId": "2766d02c-1ec4-4637-e332-e5ffe002dc44"
      },
      "execution_count": 23,
      "outputs": [
        {
          "output_type": "stream",
          "name": "stdout",
          "text": [
            "Requirement already satisfied: optuna in /usr/local/lib/python3.12/dist-packages (4.5.0)\n",
            "Requirement already satisfied: alembic>=1.5.0 in /usr/local/lib/python3.12/dist-packages (from optuna) (1.16.4)\n",
            "Requirement already satisfied: colorlog in /usr/local/lib/python3.12/dist-packages (from optuna) (6.9.0)\n",
            "Requirement already satisfied: numpy in /usr/local/lib/python3.12/dist-packages (from optuna) (2.0.2)\n",
            "Requirement already satisfied: packaging>=20.0 in /usr/local/lib/python3.12/dist-packages (from optuna) (25.0)\n",
            "Requirement already satisfied: sqlalchemy>=1.4.2 in /usr/local/lib/python3.12/dist-packages (from optuna) (2.0.43)\n",
            "Requirement already satisfied: tqdm in /usr/local/lib/python3.12/dist-packages (from optuna) (4.67.1)\n",
            "Requirement already satisfied: PyYAML in /usr/local/lib/python3.12/dist-packages (from optuna) (6.0.2)\n",
            "Requirement already satisfied: Mako in /usr/lib/python3/dist-packages (from alembic>=1.5.0->optuna) (1.1.3)\n",
            "Requirement already satisfied: typing-extensions>=4.12 in /usr/local/lib/python3.12/dist-packages (from alembic>=1.5.0->optuna) (4.14.1)\n",
            "Requirement already satisfied: greenlet>=1 in /usr/local/lib/python3.12/dist-packages (from sqlalchemy>=1.4.2->optuna) (3.2.4)\n"
          ]
        },
        {
          "output_type": "stream",
          "name": "stderr",
          "text": [
            "[I 2025-08-23 15:43:11,038] A new study created in memory with name: no-name-4397d5d6-fb73-4974-9576-0f071e691327\n",
            "/usr/local/lib/python3.12/dist-packages/keras/src/layers/reshaping/flatten.py:37: UserWarning: Do not pass an `input_shape`/`input_dim` argument to a layer. When using Sequential models, prefer using an `Input(shape)` object as the first layer in the model instead.\n",
            "  super().__init__(**kwargs)\n",
            "[I 2025-08-23 15:43:25,102] Trial 0 finished with value: 0.8072742223739624 and parameters: {'units_1': 840, 'act_1': 'sigmoid', 'units_2': 768, 'act_2': 'tanh', 'lr': 0.0006457043642896064, 'batch_size': 64}. Best is trial 0 with value: 0.8072742223739624.\n",
            "[I 2025-08-23 15:43:42,618] Trial 1 finished with value: 0.821906328201294 and parameters: {'units_1': 808, 'act_1': 'selu', 'units_2': 568, 'act_2': 'tanh', 'lr': 0.00015485492349432775, 'batch_size': 32}. Best is trial 1 with value: 0.821906328201294.\n",
            "[I 2025-08-23 15:43:54,064] Trial 2 finished with value: 0.7366220951080322 and parameters: {'units_1': 760, 'act_1': 'relu', 'units_2': 248, 'act_2': 'relu', 'lr': 3.174670665818613e-05, 'batch_size': 128}. Best is trial 1 with value: 0.821906328201294.\n",
            "[I 2025-08-23 15:44:21,774] Trial 3 finished with value: 0.8068562150001526 and parameters: {'units_1': 144, 'act_1': 'relu', 'units_2': 520, 'act_2': 'tanh', 'lr': 0.0003931886962446445, 'batch_size': 16}. Best is trial 1 with value: 0.821906328201294.\n",
            "[I 2025-08-23 15:44:32,933] Trial 4 finished with value: 0.7721571922302246 and parameters: {'units_1': 552, 'act_1': 'tanh', 'units_2': 768, 'act_2': 'sigmoid', 'lr': 7.88295434639168e-05, 'batch_size': 64}. Best is trial 1 with value: 0.821906328201294.\n",
            "[I 2025-08-23 15:44:46,241] Trial 5 finished with value: 0.7182274460792542 and parameters: {'units_1': 784, 'act_1': 'tanh', 'units_2': 208, 'act_2': 'relu', 'lr': 1.08386716475438e-05, 'batch_size': 64}. Best is trial 1 with value: 0.821906328201294.\n",
            "[I 2025-08-23 15:45:04,876] Trial 6 finished with value: 0.8156354427337646 and parameters: {'units_1': 784, 'act_1': 'relu', 'units_2': 760, 'act_2': 'sigmoid', 'lr': 0.0001906555243164896, 'batch_size': 32}. Best is trial 1 with value: 0.821906328201294.\n",
            "[I 2025-08-23 15:45:32,364] Trial 7 finished with value: 0.8035116791725159 and parameters: {'units_1': 352, 'act_1': 'sigmoid', 'units_2': 304, 'act_2': 'sigmoid', 'lr': 0.000240978549001538, 'batch_size': 16}. Best is trial 1 with value: 0.821906328201294.\n",
            "[I 2025-08-23 15:45:45,125] Trial 8 finished with value: 0.803093671798706 and parameters: {'units_1': 224, 'act_1': 'relu', 'units_2': 888, 'act_2': 'tanh', 'lr': 0.0007885279793402091, 'batch_size': 64}. Best is trial 1 with value: 0.821906328201294.\n",
            "[I 2025-08-23 15:45:56,879] Trial 9 finished with value: 0.19439798593521118 and parameters: {'units_1': 816, 'act_1': 'sigmoid', 'units_2': 1000, 'act_2': 'relu', 'lr': 0.003749547270340462, 'batch_size': 64}. Best is trial 1 with value: 0.821906328201294.\n",
            "[I 2025-08-23 15:46:15,464] Trial 10 finished with value: 0.19439798593521118 and parameters: {'units_1': 1016, 'act_1': 'selu', 'units_2': 512, 'act_2': 'tanh', 'lr': 0.00982240198176756, 'batch_size': 32}. Best is trial 1 with value: 0.821906328201294.\n",
            "[I 2025-08-23 15:46:31,564] Trial 11 finished with value: 0.8114548325538635 and parameters: {'units_1': 584, 'act_1': 'selu', 'units_2': 640, 'act_2': 'sigmoid', 'lr': 0.00011197479078883816, 'batch_size': 32}. Best is trial 1 with value: 0.821906328201294.\n",
            "[I 2025-08-23 15:46:51,673] Trial 12 finished with value: 0.8122909665107727 and parameters: {'units_1': 1024, 'act_1': 'selu', 'units_2': 664, 'act_2': 'sigmoid', 'lr': 8.850494524457228e-05, 'batch_size': 32}. Best is trial 1 with value: 0.821906328201294.\n",
            "[I 2025-08-23 15:47:07,897] Trial 13 finished with value: 0.7964046597480774 and parameters: {'units_1': 600, 'act_1': 'relu', 'units_2': 392, 'act_2': 'sigmoid', 'lr': 0.0016969606424730587, 'batch_size': 32}. Best is trial 1 with value: 0.821906328201294.\n",
            "[I 2025-08-23 15:47:26,110] Trial 14 finished with value: 0.8131271004676819 and parameters: {'units_1': 664, 'act_1': 'selu', 'units_2': 824, 'act_2': 'tanh', 'lr': 0.00017864989925218068, 'batch_size': 32}. Best is trial 1 with value: 0.821906328201294.\n",
            "[I 2025-08-23 15:47:37,234] Trial 15 finished with value: 0.7604514956474304 and parameters: {'units_1': 904, 'act_1': 'selu', 'units_2': 432, 'act_2': 'tanh', 'lr': 2.7871010667697907e-05, 'batch_size': 128}. Best is trial 1 with value: 0.821906328201294.\n",
            "[I 2025-08-23 15:47:53,088] Trial 16 finished with value: 0.7512542009353638 and parameters: {'units_1': 456, 'act_1': 'relu', 'units_2': 648, 'act_2': 'sigmoid', 'lr': 3.558564067235977e-05, 'batch_size': 32}. Best is trial 1 with value: 0.821906328201294.\n",
            "[I 2025-08-23 15:48:09,851] Trial 17 finished with value: 0.6868728995323181 and parameters: {'units_1': 704, 'act_1': 'tanh', 'units_2': 64, 'act_2': 'tanh', 'lr': 0.0012220362673309817, 'batch_size': 32}. Best is trial 1 with value: 0.821906328201294.\n",
            "[I 2025-08-23 15:48:27,963] Trial 18 finished with value: 0.8214883208274841 and parameters: {'units_1': 920, 'act_1': 'relu', 'units_2': 984, 'act_2': 'sigmoid', 'lr': 0.0004195411204539817, 'batch_size': 32}. Best is trial 1 with value: 0.821906328201294.\n",
            "[I 2025-08-23 15:48:55,566] Trial 19 finished with value: 0.8001672029495239 and parameters: {'units_1': 960, 'act_1': 'selu', 'units_2': 992, 'act_2': 'relu', 'lr': 0.00045002246958963975, 'batch_size': 16}. Best is trial 1 with value: 0.821906328201294.\n"
          ]
        },
        {
          "output_type": "stream",
          "name": "stdout",
          "text": [
            "🔍 Mejores hiperparámetros encontrados:\n",
            "{'units_1': 808, 'act_1': 'selu', 'units_2': 568, 'act_2': 'tanh', 'lr': 0.00015485492349432775, 'batch_size': 32}\n"
          ]
        }
      ]
    },
    {
      "cell_type": "markdown",
      "metadata": {
        "id": "JkGaT20g-8hR"
      },
      "source": [
        "# Modelos (variación de Hiperparámetros)"
      ]
    },
    {
      "cell_type": "markdown",
      "metadata": {
        "id": "ooID7lPl_Cso"
      },
      "source": [
        "# Compilación y entrenamiento del modelo"
      ]
    },
    {
      "cell_type": "code",
      "source": [
        "#Intento 1 Sin uso de la herramienta    #85%\n",
        "x_train_Mod = x_train[1:11959,:,:,:] #8356 a 16\n",
        "y_train_Mod = y_train[1:11959,:]\n",
        "\n",
        "#Hiperparámetros\n",
        "batch_s, lr, num_epochs = 16, 0.0005, 30\n",
        "optimizerf = tf.keras.optimizers.Adam(learning_rate=lr)\n",
        "\n",
        "#Modelo\n",
        "model = Sequential([\n",
        "                    Flatten(),  # 28*28=784\n",
        "                    Dense(240, activation='relu'),\n",
        "                    Dense(192, activation='sigmoid'),\n",
        "                    Dense(8, activation='softmax')\n",
        "])"
      ],
      "metadata": {
        "id": "sUdosG9Doikz"
      },
      "execution_count": 32,
      "outputs": []
    },
    {
      "cell_type": "code",
      "source": [
        "#Intento 2 Sin la herramienta   #82%\n",
        "#Modelo 6 (regulariza)\n",
        "#Datos\n",
        "x_train_Mod = x_train[1:11959,:,:,:]\n",
        "y_train_Mod = y_train[1:11959,:]\n",
        "#Hiperparámetros\n",
        "batch_s, lr, num_epochs = 32, 0.001, 30\n",
        "optimizerf = tf.keras.optimizers.Adam(learning_rate=lr)\n",
        "\n",
        "#Modelo\n",
        "model = Sequential([\n",
        "                    Flatten(),  # 28*28=784\n",
        "                    Dense(128, activation='relu'),\n",
        "                    Dense(8, activation='softmax')\n",
        "])"
      ],
      "metadata": {
        "id": "d14eGwQDotyY"
      },
      "execution_count": 54,
      "outputs": []
    },
    {
      "cell_type": "code",
      "source": [
        "#Intento 3 Con la herramienta    #87%\n",
        "#Datos\n",
        "x_train_Mod = x_train[1:11959,:,:,:]\n",
        "y_train_Mod = y_train[1:11959,:]\n",
        "weight_decay1 = 0.000001\n",
        "#Hiperparámetros\n",
        "batch_s, lr, num_epochs = 16, 3.568382753188613e-05, 30\n",
        "optimizerf = tf.keras.optimizers.Adam(learning_rate=lr)\n",
        "\n",
        "#Modelo\n",
        "model = Sequential([\n",
        "                    Flatten(),  # 28*28=784\n",
        "                    Dense(832, activation='tanh',kernel_regularizer=tf.keras.regularizers.l2(weight_decay1)),\n",
        "                    Dense(512,activation=\"relu\"),\n",
        "                    Dense(8, activation='softmax')\n",
        "])"
      ],
      "metadata": {
        "id": "eB_nEJxdpA6d"
      },
      "execution_count": 35,
      "outputs": []
    },
    {
      "cell_type": "code",
      "execution_count": 55,
      "metadata": {
        "id": "AvbY86QL_L-7"
      },
      "outputs": [],
      "source": [
        "model.compile(\n",
        "  optimizer=optimizerf,\n",
        "  loss= 'categorical_crossentropy',\n",
        "  metrics=['CategoricalAccuracy']\n",
        ")"
      ]
    },
    {
      "cell_type": "markdown",
      "metadata": {
        "id": "jpca1ZPB_-hS"
      },
      "source": [
        "# Entrenamiento"
      ]
    },
    {
      "cell_type": "code",
      "execution_count": 56,
      "metadata": {
        "id": "bDeyBBLhAAMz",
        "colab": {
          "base_uri": "https://localhost:8080/"
        },
        "outputId": "c422edef-3cf0-4aa2-baac-2433e5e00ded"
      },
      "outputs": [
        {
          "output_type": "stream",
          "name": "stdout",
          "text": [
            "Epoch 1/30\n",
            "\u001b[1m374/374\u001b[0m \u001b[32m━━━━━━━━━━━━━━━━━━━━\u001b[0m\u001b[37m\u001b[0m \u001b[1m5s\u001b[0m 8ms/step - CategoricalAccuracy: 0.3747 - loss: 1.7840 - val_CategoricalAccuracy: 0.6513 - val_loss: 1.0363\n",
            "Epoch 2/30\n",
            "\u001b[1m374/374\u001b[0m \u001b[32m━━━━━━━━━━━━━━━━━━━━\u001b[0m\u001b[37m\u001b[0m \u001b[1m1s\u001b[0m 4ms/step - CategoricalAccuracy: 0.6530 - loss: 0.9993 - val_CategoricalAccuracy: 0.6875 - val_loss: 0.9068\n",
            "Epoch 3/30\n",
            "\u001b[1m374/374\u001b[0m \u001b[32m━━━━━━━━━━━━━━━━━━━━\u001b[0m\u001b[37m\u001b[0m \u001b[1m1s\u001b[0m 3ms/step - CategoricalAccuracy: 0.6921 - loss: 0.8976 - val_CategoricalAccuracy: 0.7270 - val_loss: 0.8034\n",
            "Epoch 4/30\n",
            "\u001b[1m374/374\u001b[0m \u001b[32m━━━━━━━━━━━━━━━━━━━━\u001b[0m\u001b[37m\u001b[0m \u001b[1m1s\u001b[0m 3ms/step - CategoricalAccuracy: 0.7091 - loss: 0.8307 - val_CategoricalAccuracy: 0.7214 - val_loss: 0.7963\n",
            "Epoch 5/30\n",
            "\u001b[1m374/374\u001b[0m \u001b[32m━━━━━━━━━━━━━━━━━━━━\u001b[0m\u001b[37m\u001b[0m \u001b[1m3s\u001b[0m 3ms/step - CategoricalAccuracy: 0.7317 - loss: 0.7897 - val_CategoricalAccuracy: 0.7264 - val_loss: 0.7680\n",
            "Epoch 6/30\n",
            "\u001b[1m374/374\u001b[0m \u001b[32m━━━━━━━━━━━━━━━━━━━━\u001b[0m\u001b[37m\u001b[0m \u001b[1m3s\u001b[0m 4ms/step - CategoricalAccuracy: 0.7477 - loss: 0.7471 - val_CategoricalAccuracy: 0.7556 - val_loss: 0.7092\n",
            "Epoch 7/30\n",
            "\u001b[1m374/374\u001b[0m \u001b[32m━━━━━━━━━━━━━━━━━━━━\u001b[0m\u001b[37m\u001b[0m \u001b[1m1s\u001b[0m 4ms/step - CategoricalAccuracy: 0.7498 - loss: 0.7167 - val_CategoricalAccuracy: 0.7080 - val_loss: 0.8001\n",
            "Epoch 8/30\n",
            "\u001b[1m374/374\u001b[0m \u001b[32m━━━━━━━━━━━━━━━━━━━━\u001b[0m\u001b[37m\u001b[0m \u001b[1m3s\u001b[0m 3ms/step - CategoricalAccuracy: 0.7569 - loss: 0.7149 - val_CategoricalAccuracy: 0.7638 - val_loss: 0.6791\n",
            "Epoch 9/30\n",
            "\u001b[1m374/374\u001b[0m \u001b[32m━━━━━━━━━━━━━━━━━━━━\u001b[0m\u001b[37m\u001b[0m \u001b[1m1s\u001b[0m 3ms/step - CategoricalAccuracy: 0.7587 - loss: 0.6962 - val_CategoricalAccuracy: 0.7781 - val_loss: 0.6686\n",
            "Epoch 10/30\n",
            "\u001b[1m374/374\u001b[0m \u001b[32m━━━━━━━━━━━━━━━━━━━━\u001b[0m\u001b[37m\u001b[0m \u001b[1m1s\u001b[0m 3ms/step - CategoricalAccuracy: 0.7590 - loss: 0.7034 - val_CategoricalAccuracy: 0.7591 - val_loss: 0.6790\n",
            "Epoch 11/30\n",
            "\u001b[1m374/374\u001b[0m \u001b[32m━━━━━━━━━━━━━━━━━━━━\u001b[0m\u001b[37m\u001b[0m \u001b[1m1s\u001b[0m 3ms/step - CategoricalAccuracy: 0.7821 - loss: 0.6463 - val_CategoricalAccuracy: 0.7510 - val_loss: 0.6952\n",
            "Epoch 12/30\n",
            "\u001b[1m374/374\u001b[0m \u001b[32m━━━━━━━━━━━━━━━━━━━━\u001b[0m\u001b[37m\u001b[0m \u001b[1m3s\u001b[0m 6ms/step - CategoricalAccuracy: 0.7817 - loss: 0.6354 - val_CategoricalAccuracy: 0.7825 - val_loss: 0.6355\n",
            "Epoch 13/30\n",
            "\u001b[1m374/374\u001b[0m \u001b[32m━━━━━━━━━━━━━━━━━━━━\u001b[0m\u001b[37m\u001b[0m \u001b[1m2s\u001b[0m 3ms/step - CategoricalAccuracy: 0.7859 - loss: 0.6308 - val_CategoricalAccuracy: 0.7799 - val_loss: 0.6089\n",
            "Epoch 14/30\n",
            "\u001b[1m374/374\u001b[0m \u001b[32m━━━━━━━━━━━━━━━━━━━━\u001b[0m\u001b[37m\u001b[0m \u001b[1m1s\u001b[0m 3ms/step - CategoricalAccuracy: 0.7943 - loss: 0.6068 - val_CategoricalAccuracy: 0.7673 - val_loss: 0.6430\n",
            "Epoch 15/30\n",
            "\u001b[1m374/374\u001b[0m \u001b[32m━━━━━━━━━━━━━━━━━━━━\u001b[0m\u001b[37m\u001b[0m \u001b[1m1s\u001b[0m 3ms/step - CategoricalAccuracy: 0.8109 - loss: 0.5770 - val_CategoricalAccuracy: 0.7530 - val_loss: 0.7055\n",
            "Epoch 16/30\n",
            "\u001b[1m374/374\u001b[0m \u001b[32m━━━━━━━━━━━━━━━━━━━━\u001b[0m\u001b[37m\u001b[0m \u001b[1m1s\u001b[0m 3ms/step - CategoricalAccuracy: 0.7957 - loss: 0.5966 - val_CategoricalAccuracy: 0.7504 - val_loss: 0.6625\n",
            "Epoch 17/30\n",
            "\u001b[1m374/374\u001b[0m \u001b[32m━━━━━━━━━━━━━━━━━━━━\u001b[0m\u001b[37m\u001b[0m \u001b[1m1s\u001b[0m 3ms/step - CategoricalAccuracy: 0.8071 - loss: 0.5689 - val_CategoricalAccuracy: 0.7591 - val_loss: 0.6417\n",
            "Epoch 18/30\n",
            "\u001b[1m374/374\u001b[0m \u001b[32m━━━━━━━━━━━━━━━━━━━━\u001b[0m\u001b[37m\u001b[0m \u001b[1m1s\u001b[0m 3ms/step - CategoricalAccuracy: 0.8099 - loss: 0.5512 - val_CategoricalAccuracy: 0.7925 - val_loss: 0.5721\n",
            "Epoch 19/30\n",
            "\u001b[1m374/374\u001b[0m \u001b[32m━━━━━━━━━━━━━━━━━━━━\u001b[0m\u001b[37m\u001b[0m \u001b[1m3s\u001b[0m 5ms/step - CategoricalAccuracy: 0.8098 - loss: 0.5490 - val_CategoricalAccuracy: 0.8062 - val_loss: 0.5626\n",
            "Epoch 20/30\n",
            "\u001b[1m374/374\u001b[0m \u001b[32m━━━━━━━━━━━━━━━━━━━━\u001b[0m\u001b[37m\u001b[0m \u001b[1m2s\u001b[0m 4ms/step - CategoricalAccuracy: 0.8191 - loss: 0.5532 - val_CategoricalAccuracy: 0.7910 - val_loss: 0.5872\n",
            "Epoch 21/30\n",
            "\u001b[1m374/374\u001b[0m \u001b[32m━━━━━━━━━━━━━━━━━━━━\u001b[0m\u001b[37m\u001b[0m \u001b[1m1s\u001b[0m 3ms/step - CategoricalAccuracy: 0.8136 - loss: 0.5393 - val_CategoricalAccuracy: 0.7714 - val_loss: 0.6390\n",
            "Epoch 22/30\n",
            "\u001b[1m374/374\u001b[0m \u001b[32m━━━━━━━━━━━━━━━━━━━━\u001b[0m\u001b[37m\u001b[0m \u001b[1m1s\u001b[0m 4ms/step - CategoricalAccuracy: 0.8169 - loss: 0.5426 - val_CategoricalAccuracy: 0.8120 - val_loss: 0.5440\n",
            "Epoch 23/30\n",
            "\u001b[1m374/374\u001b[0m \u001b[32m━━━━━━━━━━━━━━━━━━━━\u001b[0m\u001b[37m\u001b[0m \u001b[1m1s\u001b[0m 3ms/step - CategoricalAccuracy: 0.8116 - loss: 0.5537 - val_CategoricalAccuracy: 0.8036 - val_loss: 0.5649\n",
            "Epoch 24/30\n",
            "\u001b[1m374/374\u001b[0m \u001b[32m━━━━━━━━━━━━━━━━━━━━\u001b[0m\u001b[37m\u001b[0m \u001b[1m1s\u001b[0m 3ms/step - CategoricalAccuracy: 0.8154 - loss: 0.5285 - val_CategoricalAccuracy: 0.7764 - val_loss: 0.6364\n",
            "Epoch 25/30\n",
            "\u001b[1m374/374\u001b[0m \u001b[32m━━━━━━━━━━━━━━━━━━━━\u001b[0m\u001b[37m\u001b[0m \u001b[1m2s\u001b[0m 3ms/step - CategoricalAccuracy: 0.8099 - loss: 0.5459 - val_CategoricalAccuracy: 0.8091 - val_loss: 0.5541\n",
            "Epoch 26/30\n",
            "\u001b[1m374/374\u001b[0m \u001b[32m━━━━━━━━━━━━━━━━━━━━\u001b[0m\u001b[37m\u001b[0m \u001b[1m1s\u001b[0m 3ms/step - CategoricalAccuracy: 0.8205 - loss: 0.5212 - val_CategoricalAccuracy: 0.7884 - val_loss: 0.6080\n",
            "Epoch 27/30\n",
            "\u001b[1m374/374\u001b[0m \u001b[32m━━━━━━━━━━━━━━━━━━━━\u001b[0m\u001b[37m\u001b[0m \u001b[1m3s\u001b[0m 4ms/step - CategoricalAccuracy: 0.8229 - loss: 0.5043 - val_CategoricalAccuracy: 0.8001 - val_loss: 0.5580\n",
            "Epoch 28/30\n",
            "\u001b[1m374/374\u001b[0m \u001b[32m━━━━━━━━━━━━━━━━━━━━\u001b[0m\u001b[37m\u001b[0m \u001b[1m1s\u001b[0m 3ms/step - CategoricalAccuracy: 0.8259 - loss: 0.5034 - val_CategoricalAccuracy: 0.7764 - val_loss: 0.6131\n",
            "Epoch 29/30\n",
            "\u001b[1m374/374\u001b[0m \u001b[32m━━━━━━━━━━━━━━━━━━━━\u001b[0m\u001b[37m\u001b[0m \u001b[1m1s\u001b[0m 3ms/step - CategoricalAccuracy: 0.8239 - loss: 0.5077 - val_CategoricalAccuracy: 0.7688 - val_loss: 0.6313\n",
            "Epoch 30/30\n",
            "\u001b[1m374/374\u001b[0m \u001b[32m━━━━━━━━━━━━━━━━━━━━\u001b[0m\u001b[37m\u001b[0m \u001b[1m1s\u001b[0m 3ms/step - CategoricalAccuracy: 0.8234 - loss: 0.5156 - val_CategoricalAccuracy: 0.7971 - val_loss: 0.5565\n"
          ]
        }
      ],
      "source": [
        "history = model.fit(\n",
        "    x_train_Mod,\n",
        "    y_train_Mod,\n",
        "    epochs=num_epochs,\n",
        "    batch_size=batch_s,\n",
        "    validation_data=(x_test, y_test))"
      ]
    },
    {
      "cell_type": "code",
      "source": [
        "model.summary()"
      ],
      "metadata": {
        "colab": {
          "base_uri": "https://localhost:8080/",
          "height": 273
        },
        "id": "lcC7JwOTs17w",
        "outputId": "96e187fb-a4bc-4af6-c8ee-42a5b9f8c295"
      },
      "execution_count": 41,
      "outputs": [
        {
          "output_type": "display_data",
          "data": {
            "text/plain": [
              "\u001b[1mModel: \"sequential_51\"\u001b[0m\n"
            ],
            "text/html": [
              "<pre style=\"white-space:pre;overflow-x:auto;line-height:normal;font-family:Menlo,'DejaVu Sans Mono',consolas,'Courier New',monospace\"><span style=\"font-weight: bold\">Model: \"sequential_51\"</span>\n",
              "</pre>\n"
            ]
          },
          "metadata": {}
        },
        {
          "output_type": "display_data",
          "data": {
            "text/plain": [
              "┏━━━━━━━━━━━━━━━━━━━━━━━━━━━━━━━━━┳━━━━━━━━━━━━━━━━━━━━━━━━┳━━━━━━━━━━━━━━━┓\n",
              "┃\u001b[1m \u001b[0m\u001b[1mLayer (type)                   \u001b[0m\u001b[1m \u001b[0m┃\u001b[1m \u001b[0m\u001b[1mOutput Shape          \u001b[0m\u001b[1m \u001b[0m┃\u001b[1m \u001b[0m\u001b[1m      Param #\u001b[0m\u001b[1m \u001b[0m┃\n",
              "┡━━━━━━━━━━━━━━━━━━━━━━━━━━━━━━━━━╇━━━━━━━━━━━━━━━━━━━━━━━━╇━━━━━━━━━━━━━━━┩\n",
              "│ flatten_51 (\u001b[38;5;33mFlatten\u001b[0m)            │ (\u001b[38;5;45mNone\u001b[0m, \u001b[38;5;34m2352\u001b[0m)           │             \u001b[38;5;34m0\u001b[0m │\n",
              "├─────────────────────────────────┼────────────────────────┼───────────────┤\n",
              "│ dense_149 (\u001b[38;5;33mDense\u001b[0m)               │ (\u001b[38;5;45mNone\u001b[0m, \u001b[38;5;34m832\u001b[0m)            │     \u001b[38;5;34m1,957,696\u001b[0m │\n",
              "├─────────────────────────────────┼────────────────────────┼───────────────┤\n",
              "│ dense_150 (\u001b[38;5;33mDense\u001b[0m)               │ (\u001b[38;5;45mNone\u001b[0m, \u001b[38;5;34m512\u001b[0m)            │       \u001b[38;5;34m426,496\u001b[0m │\n",
              "├─────────────────────────────────┼────────────────────────┼───────────────┤\n",
              "│ dense_151 (\u001b[38;5;33mDense\u001b[0m)               │ (\u001b[38;5;45mNone\u001b[0m, \u001b[38;5;34m8\u001b[0m)              │         \u001b[38;5;34m4,104\u001b[0m │\n",
              "└─────────────────────────────────┴────────────────────────┴───────────────┘\n"
            ],
            "text/html": [
              "<pre style=\"white-space:pre;overflow-x:auto;line-height:normal;font-family:Menlo,'DejaVu Sans Mono',consolas,'Courier New',monospace\">┏━━━━━━━━━━━━━━━━━━━━━━━━━━━━━━━━━┳━━━━━━━━━━━━━━━━━━━━━━━━┳━━━━━━━━━━━━━━━┓\n",
              "┃<span style=\"font-weight: bold\"> Layer (type)                    </span>┃<span style=\"font-weight: bold\"> Output Shape           </span>┃<span style=\"font-weight: bold\">       Param # </span>┃\n",
              "┡━━━━━━━━━━━━━━━━━━━━━━━━━━━━━━━━━╇━━━━━━━━━━━━━━━━━━━━━━━━╇━━━━━━━━━━━━━━━┩\n",
              "│ flatten_51 (<span style=\"color: #0087ff; text-decoration-color: #0087ff\">Flatten</span>)            │ (<span style=\"color: #00d7ff; text-decoration-color: #00d7ff\">None</span>, <span style=\"color: #00af00; text-decoration-color: #00af00\">2352</span>)           │             <span style=\"color: #00af00; text-decoration-color: #00af00\">0</span> │\n",
              "├─────────────────────────────────┼────────────────────────┼───────────────┤\n",
              "│ dense_149 (<span style=\"color: #0087ff; text-decoration-color: #0087ff\">Dense</span>)               │ (<span style=\"color: #00d7ff; text-decoration-color: #00d7ff\">None</span>, <span style=\"color: #00af00; text-decoration-color: #00af00\">832</span>)            │     <span style=\"color: #00af00; text-decoration-color: #00af00\">1,957,696</span> │\n",
              "├─────────────────────────────────┼────────────────────────┼───────────────┤\n",
              "│ dense_150 (<span style=\"color: #0087ff; text-decoration-color: #0087ff\">Dense</span>)               │ (<span style=\"color: #00d7ff; text-decoration-color: #00d7ff\">None</span>, <span style=\"color: #00af00; text-decoration-color: #00af00\">512</span>)            │       <span style=\"color: #00af00; text-decoration-color: #00af00\">426,496</span> │\n",
              "├─────────────────────────────────┼────────────────────────┼───────────────┤\n",
              "│ dense_151 (<span style=\"color: #0087ff; text-decoration-color: #0087ff\">Dense</span>)               │ (<span style=\"color: #00d7ff; text-decoration-color: #00d7ff\">None</span>, <span style=\"color: #00af00; text-decoration-color: #00af00\">8</span>)              │         <span style=\"color: #00af00; text-decoration-color: #00af00\">4,104</span> │\n",
              "└─────────────────────────────────┴────────────────────────┴───────────────┘\n",
              "</pre>\n"
            ]
          },
          "metadata": {}
        },
        {
          "output_type": "display_data",
          "data": {
            "text/plain": [
              "\u001b[1m Total params: \u001b[0m\u001b[38;5;34m7,164,890\u001b[0m (27.33 MB)\n"
            ],
            "text/html": [
              "<pre style=\"white-space:pre;overflow-x:auto;line-height:normal;font-family:Menlo,'DejaVu Sans Mono',consolas,'Courier New',monospace\"><span style=\"font-weight: bold\"> Total params: </span><span style=\"color: #00af00; text-decoration-color: #00af00\">7,164,890</span> (27.33 MB)\n",
              "</pre>\n"
            ]
          },
          "metadata": {}
        },
        {
          "output_type": "display_data",
          "data": {
            "text/plain": [
              "\u001b[1m Trainable params: \u001b[0m\u001b[38;5;34m2,388,296\u001b[0m (9.11 MB)\n"
            ],
            "text/html": [
              "<pre style=\"white-space:pre;overflow-x:auto;line-height:normal;font-family:Menlo,'DejaVu Sans Mono',consolas,'Courier New',monospace\"><span style=\"font-weight: bold\"> Trainable params: </span><span style=\"color: #00af00; text-decoration-color: #00af00\">2,388,296</span> (9.11 MB)\n",
              "</pre>\n"
            ]
          },
          "metadata": {}
        },
        {
          "output_type": "display_data",
          "data": {
            "text/plain": [
              "\u001b[1m Non-trainable params: \u001b[0m\u001b[38;5;34m0\u001b[0m (0.00 B)\n"
            ],
            "text/html": [
              "<pre style=\"white-space:pre;overflow-x:auto;line-height:normal;font-family:Menlo,'DejaVu Sans Mono',consolas,'Courier New',monospace\"><span style=\"font-weight: bold\"> Non-trainable params: </span><span style=\"color: #00af00; text-decoration-color: #00af00\">0</span> (0.00 B)\n",
              "</pre>\n"
            ]
          },
          "metadata": {}
        },
        {
          "output_type": "display_data",
          "data": {
            "text/plain": [
              "\u001b[1m Optimizer params: \u001b[0m\u001b[38;5;34m4,776,594\u001b[0m (18.22 MB)\n"
            ],
            "text/html": [
              "<pre style=\"white-space:pre;overflow-x:auto;line-height:normal;font-family:Menlo,'DejaVu Sans Mono',consolas,'Courier New',monospace\"><span style=\"font-weight: bold\"> Optimizer params: </span><span style=\"color: #00af00; text-decoration-color: #00af00\">4,776,594</span> (18.22 MB)\n",
              "</pre>\n"
            ]
          },
          "metadata": {}
        }
      ]
    },
    {
      "cell_type": "markdown",
      "metadata": {
        "id": "YMk0Mv_Hnb2e"
      },
      "source": [
        "# Evolución del algoritmo"
      ]
    },
    {
      "cell_type": "code",
      "execution_count": 43,
      "metadata": {
        "colab": {
          "base_uri": "https://localhost:8080/",
          "height": 452
        },
        "id": "HdVZe9HNQdqc",
        "outputId": "3165f1ea-9b53-480d-df15-b5433ca1803a"
      },
      "outputs": [
        {
          "output_type": "display_data",
          "data": {
            "text/plain": [
              "<Figure size 640x480 with 1 Axes>"
            ],
            "image/png": "[encoded data removed]"
          },
          "metadata": {}
        }
      ],
      "source": [
        "# Gráfica de pérdida\n",
        "import matplotlib.pyplot as plt\n",
        "loss = history.history['loss']\n",
        "val_loss = history.history['val_loss']\n",
        "epochs = range(len(loss))\n",
        "plt.plot(epochs, loss, 'b', label='Loss entrenamiento')\n",
        "plt.plot(epochs, val_loss, 'r', label='Loss validación')\n",
        "plt.title('Loss')\n",
        "plt.legend()\n",
        "plt.show()"
      ]
    },
    {
      "cell_type": "code",
      "execution_count": 42,
      "metadata": {
        "colab": {
          "base_uri": "https://localhost:8080/",
          "height": 452
        },
        "id": "ucXlNrroqY-8",
        "outputId": "df871ef7-ada4-4bc1-922c-2e6fed18c1d1"
      },
      "outputs": [
        {
          "output_type": "display_data",
          "data": {
            "text/plain": [
              "<Figure size 640x480 with 1 Axes>"
            ],
            "image/png": "[encoded data removed]"
          },
          "metadata": {}
        }
      ],
      "source": [
        "# Gráfica de Accuracy\n",
        "import matplotlib.pyplot as plt\n",
        "acc = history.history['CategoricalAccuracy']\n",
        "val_acc = history.history['val_CategoricalAccuracy']\n",
        "epochs = range(len(acc))\n",
        "plt.plot(epochs, acc, 'b', label='ACC entrenamiento')\n",
        "plt.plot(epochs, val_acc, 'r', label='ACC validación')\n",
        "plt.title('ACC')\n",
        "plt.legend()\n",
        "plt.show()"
      ]
    },
    {
      "cell_type": "markdown",
      "metadata": {
        "id": "Ig0IiHz3M9tf"
      },
      "source": [
        "# Prueba del modelo\n",
        "\n",
        "Imagen seleccionada al azar de los datos de prueba (datos que no concoció el modelo cuando fue entrenado)"
      ]
    },
    {
      "cell_type": "code",
      "execution_count": 51,
      "metadata": {
        "colab": {
          "base_uri": "https://localhost:8080/",
          "height": 430
        },
        "id": "5XyAfTF4NCgB",
        "outputId": "39d2c563-9e35-400f-8784-e8b7886d887b"
      },
      "outputs": [
        {
          "output_type": "display_data",
          "data": {
            "text/plain": [
              "<Figure size 640x480 with 1 Axes>"
            ],
            "image/png": "[encoded data removed]"
          },
          "metadata": {}
        }
      ],
      "source": [
        "import random\n",
        "image = random.choice(x_test)\n",
        "plt.imshow(image)\n",
        "plt.show()"
      ]
    },
    {
      "cell_type": "markdown",
      "metadata": {
        "id": "0etYMhVnNGkp"
      },
      "source": [
        "Reshape y normalizar la imagen (como se hizo en el pre-procesamiento del dataset)"
      ]
    },
    {
      "cell_type": "code",
      "execution_count": 52,
      "metadata": {
        "id": "NHbXkX0sNHNy"
      },
      "outputs": [],
      "source": [
        "image = (image.reshape((1, 28, 28, 3))).astype('float32')"
      ]
    },
    {
      "cell_type": "markdown",
      "metadata": {
        "id": "NN0SMpL7NMVR"
      },
      "source": [
        "Predecir la clase de la imagen (el resultado se tiene que adaptar... one-hot-encoding)"
      ]
    },
    {
      "cell_type": "code",
      "execution_count": 53,
      "metadata": {
        "colab": {
          "base_uri": "https://localhost:8080/"
        },
        "id": "jm_x4HfjNMyp",
        "outputId": "6b1468cd-63a5-449f-e8d5-5b71e0c40eb9"
      },
      "outputs": [
        {
          "output_type": "stream",
          "name": "stdout",
          "text": [
            "\u001b[1m1/1\u001b[0m \u001b[32m━━━━━━━━━━━━━━━━━━━━\u001b[0m\u001b[37m\u001b[0m \u001b[1m0s\u001b[0m 33ms/step\n",
            "Prediction:  Basófilo\n"
          ]
        }
      ],
      "source": [
        "class_names = [\n",
        "    \"Basófilo\",             # 0\n",
        "    \"Eosinófilo\",           # 1\n",
        "    \"Eritroblasto\",         # 2\n",
        "    \"Granulocito inmaduro\", # 3\n",
        "    \"Linfocito\",            # 4\n",
        "    \"Monocito\",             # 5\n",
        "    \"Neutrófilo\",           # 6\n",
        "    \"Plaqueta\"              # 7\n",
        "]\n",
        "digit = np.argmax(model.predict(image)[0], axis=-1)\n",
        "print(\"Prediction: \", class_names[digit])"
      ]
    }
  ],
  "metadata": {
    "accelerator": "GPU",
    "colab": {
      "provenance": []
    },
    "kernelspec": {
      "display_name": "Python 3",
      "name": "python3"
    }
  },
  "nbformat": 4,
  "nbformat_minor": 0
}